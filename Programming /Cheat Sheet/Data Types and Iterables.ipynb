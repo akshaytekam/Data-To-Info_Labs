{
 "cells": [
  {
   "cell_type": "markdown",
   "id": "b3b0ea50",
   "metadata": {},
   "source": [
    "## List"
   ]
  },
  {
   "cell_type": "code",
   "execution_count": 1,
   "id": "ede0d135",
   "metadata": {},
   "outputs": [
    {
     "data": {
      "text/plain": [
       "['apple', 101, 'a', True]"
      ]
     },
     "execution_count": 1,
     "metadata": {},
     "output_type": "execute_result"
    }
   ],
   "source": [
    "x = [\"apple\", 101, 'a', True]\n",
    "\n",
    "x"
   ]
  },
  {
   "cell_type": "markdown",
   "id": "fb79284e",
   "metadata": {},
   "source": [
    "## List Comprehension"
   ]
  },
  {
   "cell_type": "code",
   "execution_count": 2,
   "id": "6d731f62",
   "metadata": {},
   "outputs": [
    {
     "name": "stdout",
     "output_type": "stream",
     "text": [
      "['apple', 'banana', 'mango']\n"
     ]
    }
   ],
   "source": [
    "fruits = [\"apple\", \"banana\", \"cherry\", \"kiwi\", \"mango\"]\n",
    "\n",
    "newlist = [x for x in fruits if \"a\" in x]\n",
    "\n",
    "print(newlist)"
   ]
  },
  {
   "cell_type": "markdown",
   "id": "4beea0e7",
   "metadata": {},
   "source": [
    "## Tuple"
   ]
  },
  {
   "cell_type": "code",
   "execution_count": 5,
   "id": "f9e3183e",
   "metadata": {},
   "outputs": [],
   "source": [
    "thistuple = (\"apple\",\"orange\")"
   ]
  },
  {
   "cell_type": "code",
   "execution_count": 6,
   "id": "cefdb168",
   "metadata": {},
   "outputs": [
    {
     "data": {
      "text/plain": [
       "('apple', 'orange')"
      ]
     },
     "execution_count": 6,
     "metadata": {},
     "output_type": "execute_result"
    }
   ],
   "source": [
    "thistuple"
   ]
  },
  {
   "cell_type": "markdown",
   "id": "6718b21f",
   "metadata": {},
   "source": [
    "## Set"
   ]
  },
  {
   "cell_type": "code",
   "execution_count": 7,
   "id": "dfdb837c",
   "metadata": {},
   "outputs": [
    {
     "name": "stdout",
     "output_type": "stream",
     "text": [
      "True\n",
      "False\n",
      "apple is in the set.\n",
      "kiwi is not in the set.\n",
      "grape is in the set.\n",
      "strawberry is not in the set.\n"
     ]
    }
   ],
   "source": [
    "fruits = {\"apple\", \"banana\", \"orange\", \"grape\", \"watermelon\"}\n",
    "\n",
    "\n",
    "print(\"banana\" in fruits)\n",
    "print(\"kiwi\" in fruits)\n",
    "\n",
    "for fruit in [\"apple\", \"kiwi\", \"grape\", \"strawberry\"]:\n",
    "    if fruit in fruits:\n",
    "        print(f\"{fruit} is in the set.\")\n",
    "    else:\n",
    "        print(f\"{fruit} is not in the set.\")"
   ]
  },
  {
   "cell_type": "markdown",
   "id": "aa915dee",
   "metadata": {},
   "source": [
    "## Dictionary"
   ]
  },
  {
   "cell_type": "code",
   "execution_count": 8,
   "id": "4f03f731",
   "metadata": {},
   "outputs": [
    {
     "name": "stdout",
     "output_type": "stream",
     "text": [
      "{'brand': 'Ford', 'model': 'Mustang', 'year': 1964}\n"
     ]
    }
   ],
   "source": [
    "thisdict = {\n",
    "  \"brand\": \"Ford\",\n",
    "  \"model\": \"Mustang\",\n",
    "  \"year\": 1964\n",
    "}\n",
    "print(thisdict)"
   ]
  },
  {
   "cell_type": "code",
   "execution_count": null,
   "id": "a3dea685",
   "metadata": {},
   "outputs": [],
   "source": []
  }
 ],
 "metadata": {
  "kernelspec": {
   "display_name": "Python 3 (ipykernel)",
   "language": "python",
   "name": "python3"
  },
  "language_info": {
   "codemirror_mode": {
    "name": "ipython",
    "version": 3
   },
   "file_extension": ".py",
   "mimetype": "text/x-python",
   "name": "python",
   "nbconvert_exporter": "python",
   "pygments_lexer": "ipython3",
   "version": "3.10.9"
  }
 },
 "nbformat": 4,
 "nbformat_minor": 5
}

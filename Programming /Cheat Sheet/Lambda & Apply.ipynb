{
 "cells": [
  {
   "cell_type": "markdown",
   "id": "62c6a8f2",
   "metadata": {},
   "source": [
    "## Lambda"
   ]
  },
  {
   "cell_type": "code",
   "execution_count": 1,
   "id": "0b6d49cd",
   "metadata": {},
   "outputs": [
    {
     "name": "stdout",
     "output_type": "stream",
     "text": [
      "15\n"
     ]
    }
   ],
   "source": [
    "x = lambda a : a + 20\n",
    "\n",
    "print(x(5))"
   ]
  },
  {
   "cell_type": "markdown",
   "id": "42e92cc4",
   "metadata": {},
   "source": [
    "## Lambda & Apply"
   ]
  },
  {
   "cell_type": "code",
   "execution_count": 2,
   "id": "0cbadb0f",
   "metadata": {},
   "outputs": [
    {
     "name": "stdout",
     "output_type": "stream",
     "text": [
      "   id    name  age  income\n",
      "0   1  Jeremy   20    4000\n",
      "1   2   Frank   25    7000\n",
      "2   3   Janet   15     200\n",
      "3   4    Ryan   10       0\n",
      "4   5    Mary   30   10000\n"
     ]
    }
   ],
   "source": [
    "import pandas as pd\n",
    "\n",
    "df=pd.DataFrame({\n",
    "    'id':[1,2,3,4,5],\n",
    "    'name':['Jeremy','Frank','Janet','Ryan','Mary'],\n",
    "    'age':[20,25,15,10,30],\n",
    "    'income':[4000,7000,200,0,10000]\n",
    "})\n",
    "\n",
    "print(df)"
   ]
  },
  {
   "cell_type": "code",
   "execution_count": 3,
   "id": "c34f04c1",
   "metadata": {},
   "outputs": [],
   "source": [
    "df['age']=df.apply(lambda x: x['age']+3,axis=1)"
   ]
  },
  {
   "cell_type": "code",
   "execution_count": 4,
   "id": "e1860f3a",
   "metadata": {},
   "outputs": [
    {
     "data": {
      "text/plain": [
       "0    23\n",
       "1    28\n",
       "2    18\n",
       "3    13\n",
       "4    33\n",
       "Name: age, dtype: int64"
      ]
     },
     "execution_count": 4,
     "metadata": {},
     "output_type": "execute_result"
    }
   ],
   "source": [
    "df['age']"
   ]
  },
  {
   "cell_type": "markdown",
   "id": "b8b281cc",
   "metadata": {},
   "source": [
    "## Lambda With Filter Function"
   ]
  },
  {
   "cell_type": "code",
   "execution_count": 5,
   "id": "4cbac014",
   "metadata": {},
   "outputs": [
    {
     "name": "stdout",
     "output_type": "stream",
     "text": [
      "   id    name  age  income\n",
      "0   1  Jeremy   23    4000\n",
      "1   2   Frank   28    7000\n",
      "2   3   Janet   18     200\n",
      "3   4    Ryan   13       0\n",
      "4   5    Mary   33   10000\n"
     ]
    }
   ],
   "source": [
    "print(df)"
   ]
  },
  {
   "cell_type": "code",
   "execution_count": 6,
   "id": "7b1f8e88",
   "metadata": {},
   "outputs": [
    {
     "data": {
      "text/plain": [
       "[23, 28, 33]"
      ]
     },
     "execution_count": 6,
     "metadata": {},
     "output_type": "execute_result"
    }
   ],
   "source": [
    "list(filter(lambda x: x>18, df['age']))"
   ]
  },
  {
   "cell_type": "code",
   "execution_count": null,
   "id": "fb80c22e",
   "metadata": {},
   "outputs": [],
   "source": []
  },
  {
   "cell_type": "markdown",
   "id": "7ba04e10",
   "metadata": {},
   "source": [
    "## Lambda With Map Function"
   ]
  },
  {
   "cell_type": "code",
   "execution_count": 7,
   "id": "07f5b731",
   "metadata": {},
   "outputs": [
    {
     "name": "stdout",
     "output_type": "stream",
     "text": [
      "   id    name  age  income\n",
      "0   1  Jeremy   23    4000\n",
      "1   2   Frank   28    7000\n",
      "2   3   Janet   18     200\n",
      "3   4    Ryan   13       0\n",
      "4   5    Mary   33   10000\n"
     ]
    }
   ],
   "source": [
    "print(df)"
   ]
  },
  {
   "cell_type": "code",
   "execution_count": 8,
   "id": "784b7c38",
   "metadata": {},
   "outputs": [],
   "source": [
    "df['income']=list(map(lambda x: int(x+x*0.2),df['income']))"
   ]
  },
  {
   "cell_type": "code",
   "execution_count": 9,
   "id": "cf9d8db7",
   "metadata": {},
   "outputs": [
    {
     "data": {
      "text/plain": [
       "0     4800\n",
       "1     8400\n",
       "2      240\n",
       "3        0\n",
       "4    12000\n",
       "Name: income, dtype: int64"
      ]
     },
     "execution_count": 9,
     "metadata": {},
     "output_type": "execute_result"
    }
   ],
   "source": [
    "df['income']"
   ]
  },
  {
   "cell_type": "markdown",
   "id": "5322ca57",
   "metadata": {},
   "source": [
    "## Lambda With Reduce Function"
   ]
  },
  {
   "cell_type": "code",
   "execution_count": 10,
   "id": "a5fffb24",
   "metadata": {},
   "outputs": [
    {
     "name": "stdout",
     "output_type": "stream",
     "text": [
      "   id    name  age  income\n",
      "0   1  Jeremy   23    4800\n",
      "1   2   Frank   28    8400\n",
      "2   3   Janet   18     240\n",
      "3   4    Ryan   13       0\n",
      "4   5    Mary   33   12000\n"
     ]
    }
   ],
   "source": [
    "print(df)"
   ]
  },
  {
   "cell_type": "code",
   "execution_count": 11,
   "id": "4ba42e49",
   "metadata": {},
   "outputs": [
    {
     "data": {
      "text/plain": [
       "25440"
      ]
     },
     "execution_count": 11,
     "metadata": {},
     "output_type": "execute_result"
    }
   ],
   "source": [
    "import functools\n",
    "\n",
    "functools.reduce(lambda a,b: a+b, df['income'])"
   ]
  },
  {
   "cell_type": "code",
   "execution_count": null,
   "id": "79b255cd",
   "metadata": {},
   "outputs": [],
   "source": [
    "a, b, c, d, e"
   ]
  }
 ],
 "metadata": {
  "kernelspec": {
   "display_name": "Python 3 (ipykernel)",
   "language": "python",
   "name": "python3"
  },
  "language_info": {
   "codemirror_mode": {
    "name": "ipython",
    "version": 3
   },
   "file_extension": ".py",
   "mimetype": "text/x-python",
   "name": "python",
   "nbconvert_exporter": "python",
   "pygments_lexer": "ipython3",
   "version": "3.10.9"
  }
 },
 "nbformat": 4,
 "nbformat_minor": 5
}

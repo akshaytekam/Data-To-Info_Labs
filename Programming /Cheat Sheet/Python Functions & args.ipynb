{
 "cells": [
  {
   "cell_type": "markdown",
   "id": "04c79f25",
   "metadata": {},
   "source": [
    "## Normal Function Definition"
   ]
  },
  {
   "cell_type": "code",
   "execution_count": 2,
   "id": "a866d963",
   "metadata": {},
   "outputs": [
    {
     "name": "stdout",
     "output_type": "stream",
     "text": [
      "5\n"
     ]
    }
   ],
   "source": [
    "def my_function(x):\n",
    "  print(x)\n",
    "\n",
    "my_function(5)"
   ]
  },
  {
   "cell_type": "markdown",
   "id": "711a3e1e",
   "metadata": {},
   "source": [
    "## Arbitrary Arguments, *args"
   ]
  },
  {
   "cell_type": "code",
   "execution_count": 3,
   "id": "6ae4391d",
   "metadata": {},
   "outputs": [
    {
     "name": "stdout",
     "output_type": "stream",
     "text": [
      "The youngest child is Makki\n"
     ]
    }
   ],
   "source": [
    "def my_function(*args):\n",
    "  print(\"The youngest child is \" + args[2])\n",
    "\n",
    "my_function(\"Akki\", \"Chakki\", \"Makki\")"
   ]
  },
  {
   "cell_type": "markdown",
   "id": "7e2df5b5",
   "metadata": {},
   "source": [
    "## Arbitrary Keyword Arguments, **kwargs"
   ]
  },
  {
   "cell_type": "code",
   "execution_count": 4,
   "id": "9ea3c206",
   "metadata": {},
   "outputs": [
    {
     "name": "stdout",
     "output_type": "stream",
     "text": [
      "His last name is Musk\n"
     ]
    }
   ],
   "source": [
    "def my_function(**kwargs):\n",
    "  print(\"His last name is \" + kwargs[\"lname\"])\n",
    "\n",
    "my_function(fname = \"Elon\", lname = \"Musk\")"
   ]
  },
  {
   "cell_type": "code",
   "execution_count": null,
   "id": "c175838b",
   "metadata": {},
   "outputs": [],
   "source": []
  }
 ],
 "metadata": {
  "kernelspec": {
   "display_name": "Python 3 (ipykernel)",
   "language": "python",
   "name": "python3"
  },
  "language_info": {
   "codemirror_mode": {
    "name": "ipython",
    "version": 3
   },
   "file_extension": ".py",
   "mimetype": "text/x-python",
   "name": "python",
   "nbconvert_exporter": "python",
   "pygments_lexer": "ipython3",
   "version": "3.10.9"
  }
 },
 "nbformat": 4,
 "nbformat_minor": 5
}
